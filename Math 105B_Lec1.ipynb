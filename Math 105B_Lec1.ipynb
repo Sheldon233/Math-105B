{
 "cells": [
  {
   "cell_type": "code",
   "execution_count": 2,
   "id": "efb4e42c",
   "metadata": {},
   "outputs": [],
   "source": [
    "import matplotlib.pyplot as plt\n",
    "import numpy as np\n",
    "import sympy as sym"
   ]
  },
  {
   "cell_type": "markdown",
   "id": "3bbe32a0",
   "metadata": {},
   "source": [
    "# 105B Practice problem "
   ]
  },
  {
   "cell_type": "markdown",
   "id": "63336f24",
   "metadata": {},
   "source": [
    "## Q1: 对函数 <font color='red'>$f(x)=\\frac{1}{1+9x^2}$</font> 在 x=-1, -0.5, 0, 0.5, 1 处 使用拉格朗日插值多项式近似"
   ]
  },
  {
   "cell_type": "code",
   "execution_count": 3,
   "id": "de97bb6f",
   "metadata": {},
   "outputs": [
    {
     "data": {
      "text/plain": [
       "array([-1. , -0.5,  0. ,  0.5,  1. ])"
      ]
     },
     "execution_count": 3,
     "metadata": {},
     "output_type": "execute_result"
    }
   ],
   "source": [
    "linx=np.linspace(-1,1,5)\n",
    "linx"
   ]
  },
  {
   "cell_type": "code",
   "execution_count": 4,
   "id": "53c01052",
   "metadata": {},
   "outputs": [
    {
     "data": {
      "text/plain": [
       "[0.1, 0.3076923076923077, 1.0, 0.3076923076923077, 0.1]"
      ]
     },
     "execution_count": 4,
     "metadata": {},
     "output_type": "execute_result"
    }
   ],
   "source": [
    "f=lambda x: 1/(1+9*x**2)\n",
    "\n",
    "liny=[]\n",
    "for i in range(len(linx)):\n",
    "    liny.append(f(linx[i]))\n",
    "liny"
   ]
  },
  {
   "cell_type": "markdown",
   "id": "dfdfe984",
   "metadata": {},
   "source": [
    "### $P(x)=L_{n,0} (x) y_0+L_{n,1} (x) y_1+⋯+L_{n,n} (x) y_n=\\sum_{k=0}^n L_{n,k} (x) y_k $ \n",
    "其中 $$L_{n,k}=\\prod_{i=0, i\\neq k}^n \\frac{x-x_i}{x_k-x_i}$$"
   ]
  },
  {
   "cell_type": "code",
   "execution_count": 5,
   "id": "88ff19e4",
   "metadata": {},
   "outputs": [],
   "source": [
    "x=sym.Symbol('x')\n",
    "def Lag_Poly(linx,liny):\n",
    "    # input: 插值点\n",
    "    # output: 拉格朗日函数 symbol form\n",
    "    n=len(linx)\n",
    "    x=sym.Symbol('x')\n",
    "    bigsum=0\n",
    "    for k in range(len(linx)):\n",
    "        prod=1\n",
    "        for i in range(len(linx)):\n",
    "            if i!=k:\n",
    "                prod=prod*(x-linx[i])/(linx[k]-linx[i])\n",
    "        bigsum+=prod*liny[k]\n",
    "    return bigsum"
   ]
  },
  {
   "cell_type": "code",
   "execution_count": 6,
   "id": "60c88430",
   "metadata": {},
   "outputs": [],
   "source": [
    "P=Lag_Poly(linx,liny)"
   ]
  },
  {
   "cell_type": "code",
   "execution_count": 7,
   "id": "868167b6",
   "metadata": {},
   "outputs": [
    {
     "data": {
      "text/latex": [
       "$\\displaystyle - 0.0333333333333333 x \\left(- 2.0 x - 1.0\\right) \\left(x - 1.0\\right) \\left(x - 0.5\\right) + 0.133333333333333 x \\left(0.5 x + 0.5\\right) \\left(x - 0.5\\right) \\left(x + 0.5\\right) - 1.23076923076923 x \\left(0.666666666666667 x + 0.666666666666667\\right) \\left(x - 1.0\\right) \\left(x + 0.5\\right) - 0.41025641025641 x \\left(x - 1.0\\right) \\left(x - 0.5\\right) \\left(2.0 x + 2.0\\right) + 4.0 \\left(x - 1.0\\right) \\left(x - 0.5\\right) \\left(x + 0.5\\right) \\left(1.0 x + 1.0\\right)$"
      ],
      "text/plain": [
       "-0.0333333333333333*x*(-2.0*x - 1.0)*(x - 1.0)*(x - 0.5) + 0.133333333333333*x*(0.5*x + 0.5)*(x - 0.5)*(x + 0.5) - 1.23076923076923*x*(0.666666666666667*x + 0.666666666666667)*(x - 1.0)*(x + 0.5) - 0.41025641025641*x*(x - 1.0)*(x - 0.5)*(2.0*x + 2.0) + 4.0*(x - 1.0)*(x - 0.5)*(x + 0.5)*(1.0*x + 1.0)"
      ]
     },
     "execution_count": 7,
     "metadata": {},
     "output_type": "execute_result"
    }
   ],
   "source": [
    "P"
   ]
  },
  {
   "cell_type": "code",
   "execution_count": 8,
   "id": "1d598158",
   "metadata": {},
   "outputs": [],
   "source": [
    "linx_for_plot=np.linspace(linx[0],linx[-1],100)\n",
    "liny_fx=list(map(f,linx_for_plot))\n",
    "liny_px=[]\n",
    "for i in range(len(linx_for_plot)):\n",
    "    liny_px.append(P.subs(x,linx_for_plot[i]))"
   ]
  },
  {
   "cell_type": "code",
   "execution_count": 9,
   "id": "23ac493d",
   "metadata": {
    "scrolled": false
   },
   "outputs": [
    {
     "data": {
      "text/plain": [
       "<matplotlib.legend.Legend at 0x7fe89f17a910>"
      ]
     },
     "execution_count": 9,
     "metadata": {},
     "output_type": "execute_result"
    },
    {
     "data": {
      "image/png": "[encoded data removed]",
      "text/plain": [
       "<Figure size 432x288 with 1 Axes>"
      ]
     },
     "metadata": {
      "needs_background": "light"
     },
     "output_type": "display_data"
    }
   ],
   "source": [
    "fig, ax = plt.subplots()\n",
    "ax.plot(linx_for_plot,liny_fx,'r',linx_for_plot,liny_px,'b')\n",
    "ax.plot(linx,liny,'ro')\n",
    "ax.legend(['f(x)','P(x)','interpolating points'])\n"
   ]
  },
  {
   "cell_type": "code",
   "execution_count": null,
   "id": "06adb701",
   "metadata": {},
   "outputs": [],
   "source": []
  }
 ],
 "metadata": {
  "kernelspec": {
   "display_name": "Python 3 (ipykernel)",
   "language": "python",
   "name": "python3"
  },
  "language_info": {
   "codemirror_mode": {
    "name": "ipython",
    "version": 3
   },
   "file_extension": ".py",
   "mimetype": "text/x-python",
   "name": "python",
   "nbconvert_exporter": "python",
   "pygments_lexer": "ipython3",
   "version": "3.9.7"
  }
 },
 "nbformat": 4,
 "nbformat_minor": 5
}
